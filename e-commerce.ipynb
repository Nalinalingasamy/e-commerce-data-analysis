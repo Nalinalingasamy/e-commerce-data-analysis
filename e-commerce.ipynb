{
 "cells": [
  {
   "cell_type": "code",
   "execution_count": 1,
   "id": "025126dc",
   "metadata": {},
   "outputs": [],
   "source": [
    "import pandas as pd\n",
    "import warnings\n",
    "warnings.filterwarnings('ignore')"
   ]
  },
  {
   "cell_type": "code",
   "execution_count": 2,
   "id": "38a02a73",
   "metadata": {},
   "outputs": [],
   "source": [
    "df = pd.read_json(\"fashion_products_dataset.json\")"
   ]
  },
  {
   "cell_type": "code",
   "execution_count": 3,
   "id": "83e338da",
   "metadata": {},
   "outputs": [
    {
     "data": {
      "text/html": [
       "<div>\n",
       "<style scoped>\n",
       "    .dataframe tbody tr th:only-of-type {\n",
       "        vertical-align: middle;\n",
       "    }\n",
       "\n",
       "    .dataframe tbody tr th {\n",
       "        vertical-align: top;\n",
       "    }\n",
       "\n",
       "    .dataframe thead th {\n",
       "        text-align: right;\n",
       "    }\n",
       "</style>\n",
       "<table border=\"1\" class=\"dataframe\">\n",
       "  <thead>\n",
       "    <tr style=\"text-align: right;\">\n",
       "      <th></th>\n",
       "      <th>_id</th>\n",
       "      <th>actual_price</th>\n",
       "      <th>average_rating</th>\n",
       "      <th>brand</th>\n",
       "      <th>category</th>\n",
       "      <th>crawled_at</th>\n",
       "      <th>description</th>\n",
       "      <th>discount</th>\n",
       "      <th>images</th>\n",
       "      <th>out_of_stock</th>\n",
       "      <th>pid</th>\n",
       "      <th>product_details</th>\n",
       "      <th>seller</th>\n",
       "      <th>selling_price</th>\n",
       "      <th>sub_category</th>\n",
       "      <th>title</th>\n",
       "      <th>url</th>\n",
       "    </tr>\n",
       "  </thead>\n",
       "  <tbody>\n",
       "    <tr>\n",
       "      <th>0</th>\n",
       "      <td>fa8e22d6-c0b6-5229-bb9e-ad52eda39a0a</td>\n",
       "      <td>2,999</td>\n",
       "      <td>3.9</td>\n",
       "      <td>York</td>\n",
       "      <td>Clothing and Accessories</td>\n",
       "      <td>2021-02-10 20:11:51</td>\n",
       "      <td>Yorker trackpants made from 100% rich combed c...</td>\n",
       "      <td>69% off</td>\n",
       "      <td>[https://rukminim1.flixcart.com/image/128/128/...</td>\n",
       "      <td>False</td>\n",
       "      <td>TKPFCZ9EA7H5FYZH</td>\n",
       "      <td>[{'Style Code': '1005COMBO2'}, {'Closure': 'El...</td>\n",
       "      <td>Shyam Enterprises</td>\n",
       "      <td>921</td>\n",
       "      <td>Bottomwear</td>\n",
       "      <td>Solid Men Multicolor Track Pants</td>\n",
       "      <td>https://www.flipkart.com/yorker-solid-men-mult...</td>\n",
       "    </tr>\n",
       "    <tr>\n",
       "      <th>1</th>\n",
       "      <td>893e6980-f2a0-531f-b056-34dd63fe912c</td>\n",
       "      <td>1,499</td>\n",
       "      <td>3.9</td>\n",
       "      <td>York</td>\n",
       "      <td>Clothing and Accessories</td>\n",
       "      <td>2021-02-10 20:11:52</td>\n",
       "      <td>Yorker trackpants made from 100% rich combed c...</td>\n",
       "      <td>66% off</td>\n",
       "      <td>[https://rukminim1.flixcart.com/image/128/128/...</td>\n",
       "      <td>False</td>\n",
       "      <td>TKPFCZ9EJZV2UVRZ</td>\n",
       "      <td>[{'Style Code': '1005BLUE'}, {'Closure': 'Draw...</td>\n",
       "      <td>Shyam Enterprises</td>\n",
       "      <td>499</td>\n",
       "      <td>Bottomwear</td>\n",
       "      <td>Solid Men Blue Track Pants</td>\n",
       "      <td>https://www.flipkart.com/yorker-solid-men-blue...</td>\n",
       "    </tr>\n",
       "    <tr>\n",
       "      <th>2</th>\n",
       "      <td>eb4c8eab-8206-59d0-bcd1-a724d96bf74f</td>\n",
       "      <td>2,999</td>\n",
       "      <td>3.9</td>\n",
       "      <td>York</td>\n",
       "      <td>Clothing and Accessories</td>\n",
       "      <td>2021-02-10 20:11:52</td>\n",
       "      <td>Yorker trackpants made from 100% rich combed c...</td>\n",
       "      <td>68% off</td>\n",
       "      <td>[https://rukminim1.flixcart.com/image/128/128/...</td>\n",
       "      <td>False</td>\n",
       "      <td>TKPFCZ9EHFCY5Z4Y</td>\n",
       "      <td>[{'Style Code': '1005COMBO4'}, {'Closure': 'El...</td>\n",
       "      <td>Shyam Enterprises</td>\n",
       "      <td>931</td>\n",
       "      <td>Bottomwear</td>\n",
       "      <td>Solid Men Multicolor Track Pants</td>\n",
       "      <td>https://www.flipkart.com/yorker-solid-men-mult...</td>\n",
       "    </tr>\n",
       "    <tr>\n",
       "      <th>3</th>\n",
       "      <td>3f3f97bb-5faf-57df-a9ff-1af24e2b1045</td>\n",
       "      <td>2,999</td>\n",
       "      <td>3.9</td>\n",
       "      <td>York</td>\n",
       "      <td>Clothing and Accessories</td>\n",
       "      <td>2021-02-10 20:11:53</td>\n",
       "      <td>Yorker trackpants made from 100% rich combed c...</td>\n",
       "      <td>69% off</td>\n",
       "      <td>[https://rukminim1.flixcart.com/image/128/128/...</td>\n",
       "      <td>False</td>\n",
       "      <td>TKPFCZ9ESZZ7YWEF</td>\n",
       "      <td>[{'Style Code': '1005COMBO3'}, {'Closure': 'El...</td>\n",
       "      <td>Shyam Enterprises</td>\n",
       "      <td>911</td>\n",
       "      <td>Bottomwear</td>\n",
       "      <td>Solid Men Multicolor Track Pants</td>\n",
       "      <td>https://www.flipkart.com/yorker-solid-men-mult...</td>\n",
       "    </tr>\n",
       "    <tr>\n",
       "      <th>4</th>\n",
       "      <td>750caa3d-6264-53ca-8ce1-94118a1d8951</td>\n",
       "      <td>2,999</td>\n",
       "      <td>3.9</td>\n",
       "      <td>York</td>\n",
       "      <td>Clothing and Accessories</td>\n",
       "      <td>2021-02-10 20:11:53</td>\n",
       "      <td>Yorker trackpants made from 100% rich combed c...</td>\n",
       "      <td>68% off</td>\n",
       "      <td>[https://rukminim1.flixcart.com/image/128/128/...</td>\n",
       "      <td>False</td>\n",
       "      <td>TKPFCZ9EVXKBSUD7</td>\n",
       "      <td>[{'Style Code': '1005COMBO1'}, {'Closure': 'Dr...</td>\n",
       "      <td>Shyam Enterprises</td>\n",
       "      <td>943</td>\n",
       "      <td>Bottomwear</td>\n",
       "      <td>Solid Men Brown, Grey Track Pants</td>\n",
       "      <td>https://www.flipkart.com/yorker-solid-men-brow...</td>\n",
       "    </tr>\n",
       "  </tbody>\n",
       "</table>\n",
       "</div>"
      ],
      "text/plain": [
       "                                    _id actual_price average_rating brand  \\\n",
       "0  fa8e22d6-c0b6-5229-bb9e-ad52eda39a0a        2,999            3.9  York   \n",
       "1  893e6980-f2a0-531f-b056-34dd63fe912c        1,499            3.9  York   \n",
       "2  eb4c8eab-8206-59d0-bcd1-a724d96bf74f        2,999            3.9  York   \n",
       "3  3f3f97bb-5faf-57df-a9ff-1af24e2b1045        2,999            3.9  York   \n",
       "4  750caa3d-6264-53ca-8ce1-94118a1d8951        2,999            3.9  York   \n",
       "\n",
       "                   category          crawled_at  \\\n",
       "0  Clothing and Accessories 2021-02-10 20:11:51   \n",
       "1  Clothing and Accessories 2021-02-10 20:11:52   \n",
       "2  Clothing and Accessories 2021-02-10 20:11:52   \n",
       "3  Clothing and Accessories 2021-02-10 20:11:53   \n",
       "4  Clothing and Accessories 2021-02-10 20:11:53   \n",
       "\n",
       "                                         description discount  \\\n",
       "0  Yorker trackpants made from 100% rich combed c...  69% off   \n",
       "1  Yorker trackpants made from 100% rich combed c...  66% off   \n",
       "2  Yorker trackpants made from 100% rich combed c...  68% off   \n",
       "3  Yorker trackpants made from 100% rich combed c...  69% off   \n",
       "4  Yorker trackpants made from 100% rich combed c...  68% off   \n",
       "\n",
       "                                              images  out_of_stock  \\\n",
       "0  [https://rukminim1.flixcart.com/image/128/128/...         False   \n",
       "1  [https://rukminim1.flixcart.com/image/128/128/...         False   \n",
       "2  [https://rukminim1.flixcart.com/image/128/128/...         False   \n",
       "3  [https://rukminim1.flixcart.com/image/128/128/...         False   \n",
       "4  [https://rukminim1.flixcart.com/image/128/128/...         False   \n",
       "\n",
       "                pid                                    product_details  \\\n",
       "0  TKPFCZ9EA7H5FYZH  [{'Style Code': '1005COMBO2'}, {'Closure': 'El...   \n",
       "1  TKPFCZ9EJZV2UVRZ  [{'Style Code': '1005BLUE'}, {'Closure': 'Draw...   \n",
       "2  TKPFCZ9EHFCY5Z4Y  [{'Style Code': '1005COMBO4'}, {'Closure': 'El...   \n",
       "3  TKPFCZ9ESZZ7YWEF  [{'Style Code': '1005COMBO3'}, {'Closure': 'El...   \n",
       "4  TKPFCZ9EVXKBSUD7  [{'Style Code': '1005COMBO1'}, {'Closure': 'Dr...   \n",
       "\n",
       "              seller selling_price sub_category  \\\n",
       "0  Shyam Enterprises           921   Bottomwear   \n",
       "1  Shyam Enterprises           499   Bottomwear   \n",
       "2  Shyam Enterprises           931   Bottomwear   \n",
       "3  Shyam Enterprises           911   Bottomwear   \n",
       "4  Shyam Enterprises           943   Bottomwear   \n",
       "\n",
       "                               title  \\\n",
       "0   Solid Men Multicolor Track Pants   \n",
       "1         Solid Men Blue Track Pants   \n",
       "2   Solid Men Multicolor Track Pants   \n",
       "3   Solid Men Multicolor Track Pants   \n",
       "4  Solid Men Brown, Grey Track Pants   \n",
       "\n",
       "                                                 url  \n",
       "0  https://www.flipkart.com/yorker-solid-men-mult...  \n",
       "1  https://www.flipkart.com/yorker-solid-men-blue...  \n",
       "2  https://www.flipkart.com/yorker-solid-men-mult...  \n",
       "3  https://www.flipkart.com/yorker-solid-men-mult...  \n",
       "4  https://www.flipkart.com/yorker-solid-men-brow...  "
      ]
     },
     "execution_count": 3,
     "metadata": {},
     "output_type": "execute_result"
    }
   ],
   "source": [
    "df.head()"
   ]
  },
  {
   "cell_type": "code",
   "execution_count": 4,
   "id": "644f12fc",
   "metadata": {},
   "outputs": [
    {
     "name": "stdout",
     "output_type": "stream",
     "text": [
      "                                        _id actual_price average_rating brand  \\\n",
      "0      fa8e22d6-c0b6-5229-bb9e-ad52eda39a0a        2,999            3.9  York   \n",
      "1      893e6980-f2a0-531f-b056-34dd63fe912c        1,499            3.9  York   \n",
      "2      eb4c8eab-8206-59d0-bcd1-a724d96bf74f        2,999            3.9  York   \n",
      "3      3f3f97bb-5faf-57df-a9ff-1af24e2b1045        2,999            3.9  York   \n",
      "4      750caa3d-6264-53ca-8ce1-94118a1d8951        2,999            3.9  York   \n",
      "...                                     ...          ...            ...   ...   \n",
      "29995  3705c6bd-6f23-529a-9b64-15b8fc568efa        2,299                  Oka   \n",
      "29996  f2a683e4-634d-5a11-8950-2d56b924576d          799            3.8   Oka   \n",
      "29997  1efa858c-1360-59a6-9624-bb04eddb492c        4,999                  Oka   \n",
      "29998  9fdfdd22-487b-599b-8be6-5dd00eb987c5        3,125            3.8   Oka   \n",
      "29999  a5396fab-753c-5cd7-bad9-050964f95a0f        3,125                  Oka   \n",
      "\n",
      "                       category          crawled_at  \\\n",
      "0      Clothing and Accessories 2021-02-10 20:11:51   \n",
      "1      Clothing and Accessories 2021-02-10 20:11:52   \n",
      "2      Clothing and Accessories 2021-02-10 20:11:52   \n",
      "3      Clothing and Accessories 2021-02-10 20:11:53   \n",
      "4      Clothing and Accessories 2021-02-10 20:11:53   \n",
      "...                         ...                 ...   \n",
      "29995  Clothing and Accessories 2021-02-11 01:31:54   \n",
      "29996  Clothing and Accessories 2021-02-11 01:31:54   \n",
      "29997  Clothing and Accessories 2021-02-11 01:31:54   \n",
      "29998  Clothing and Accessories 2021-02-11 01:31:55   \n",
      "29999  Clothing and Accessories 2021-02-11 01:31:55   \n",
      "\n",
      "                                             description discount  \\\n",
      "0      Yorker trackpants made from 100% rich combed c...  69% off   \n",
      "1      Yorker trackpants made from 100% rich combed c...  66% off   \n",
      "2      Yorker trackpants made from 100% rich combed c...  68% off   \n",
      "3      Yorker trackpants made from 100% rich combed c...  69% off   \n",
      "4      Yorker trackpants made from 100% rich combed c...  68% off   \n",
      "...                                                  ...      ...   \n",
      "29995                                                     40% off   \n",
      "29996                                                     34% off   \n",
      "29997                                                     40% off   \n",
      "29998                                                     40% off   \n",
      "29999  ‘OKANE’ endeavors to continue to be a leader i...  40% off   \n",
      "\n",
      "                                                  images  out_of_stock  ...  \\\n",
      "0      [https://rukminim1.flixcart.com/image/128/128/...         False  ...   \n",
      "1      [https://rukminim1.flixcart.com/image/128/128/...         False  ...   \n",
      "2      [https://rukminim1.flixcart.com/image/128/128/...         False  ...   \n",
      "3      [https://rukminim1.flixcart.com/image/128/128/...         False  ...   \n",
      "4      [https://rukminim1.flixcart.com/image/128/128/...         False  ...   \n",
      "...                                                  ...           ...  ...   \n",
      "29995  [https://rukminim1.flixcart.com/image/128/128/...          True  ...   \n",
      "29996  [https://rukminim1.flixcart.com/image/128/128/...         False  ...   \n",
      "29997  [https://rukminim1.flixcart.com/image/128/128/...          True  ...   \n",
      "29998  [https://rukminim1.flixcart.com/image/128/128/...         False  ...   \n",
      "29999  [https://rukminim1.flixcart.com/image/128/128/...          True  ...   \n",
      "\n",
      "      Sleeve in inch Brand Model Number Shade Thumb Hole Length  \\\n",
      "0                NaN   NaN          NaN   NaN        NaN    NaN   \n",
      "1                NaN   NaN          NaN   NaN        NaN    NaN   \n",
      "2                NaN   NaN          NaN   NaN        NaN    NaN   \n",
      "3                NaN   NaN          NaN   NaN        NaN    NaN   \n",
      "4                NaN   NaN          NaN   NaN        NaN    NaN   \n",
      "...              ...   ...          ...   ...        ...    ...   \n",
      "29995            NaN   NaN          NaN   NaN        NaN    NaN   \n",
      "29996            NaN   NaN          NaN   NaN        NaN    NaN   \n",
      "29997            NaN   NaN          NaN   NaN        NaN    NaN   \n",
      "29998            NaN   NaN          NaN   NaN        NaN    NaN   \n",
      "29999            NaN   NaN          NaN   NaN        NaN    NaN   \n",
      "\n",
      "      Strap Material Weave type Fabric care Coat Type  \n",
      "0                NaN        NaN         NaN       NaN  \n",
      "1                NaN        NaN         NaN       NaN  \n",
      "2                NaN        NaN         NaN       NaN  \n",
      "3                NaN        NaN         NaN       NaN  \n",
      "4                NaN        NaN         NaN       NaN  \n",
      "...              ...        ...         ...       ...  \n",
      "29995            NaN        NaN         NaN       NaN  \n",
      "29996            NaN        NaN         NaN       NaN  \n",
      "29997            NaN        NaN         NaN       NaN  \n",
      "29998            NaN        NaN         NaN       NaN  \n",
      "29999            NaN        NaN         NaN       NaN  \n",
      "\n",
      "[30000 rows x 143 columns]\n"
     ]
    }
   ],
   "source": [
    "df_exploded = pd.concat([df.drop(columns=['product_details']), df['product_details'].apply(lambda x: pd.Series({k: v for d in x for k, v in d.items()}))], axis=1)\n",
    "\n",
    "# Display the DataFrame with flattened product_details\n",
    "print(df_exploded)"
   ]
  },
  {
   "cell_type": "code",
   "execution_count": 5,
   "id": "28cf4908",
   "metadata": {},
   "outputs": [
    {
     "data": {
      "text/plain": [
       "Index(['_id', 'actual_price', 'average_rating', 'brand', 'category',\n",
       "       'crawled_at', 'description', 'discount', 'images', 'out_of_stock',\n",
       "       ...\n",
       "       'Sleeve in inch', 'Brand', 'Model Number', 'Shade', 'Thumb Hole',\n",
       "       'Length', 'Strap Material', 'Weave type', 'Fabric care', 'Coat Type'],\n",
       "      dtype='object', length=143)"
      ]
     },
     "execution_count": 5,
     "metadata": {},
     "output_type": "execute_result"
    }
   ],
   "source": [
    "df_exploded.columns"
   ]
  },
  {
   "cell_type": "code",
   "execution_count": 6,
   "id": "ae214713",
   "metadata": {},
   "outputs": [
    {
     "data": {
      "text/plain": [
       "Index(['_id', 'actual_price', 'average_rating', 'brand', 'category',\n",
       "       'crawled_at', 'description', 'discount', 'images', 'out_of_stock',\n",
       "       'pid', 'product_details', 'seller', 'selling_price', 'sub_category',\n",
       "       'title', 'url'],\n",
       "      dtype='object')"
      ]
     },
     "execution_count": 6,
     "metadata": {},
     "output_type": "execute_result"
    }
   ],
   "source": [
    "df.columns"
   ]
  },
  {
   "cell_type": "code",
   "execution_count": 7,
   "id": "f41e00ba",
   "metadata": {},
   "outputs": [
    {
     "data": {
      "text/plain": [
       "_id                0.000000\n",
       "actual_price       0.000000\n",
       "average_rating     0.000000\n",
       "brand              0.000000\n",
       "category           0.000000\n",
       "                    ...    \n",
       "Length            99.983333\n",
       "Strap Material    99.920000\n",
       "Weave type        99.993333\n",
       "Fabric care       99.996667\n",
       "Coat Type         99.986667\n",
       "Length: 143, dtype: float64"
      ]
     },
     "execution_count": 7,
     "metadata": {},
     "output_type": "execute_result"
    }
   ],
   "source": [
    "df_exploded.isnull().sum()/len(df)*100"
   ]
  },
  {
   "cell_type": "code",
   "execution_count": 9,
   "id": "cf4c4a42",
   "metadata": {},
   "outputs": [],
   "source": [
    "df_alter = df_exploded[['_id', 'actual_price', 'average_rating', 'brand', 'category',\n",
    "       'crawled_at', 'description', 'discount', 'images', 'out_of_stock',\n",
    "       'pid', 'seller', 'selling_price', 'sub_category',\n",
    "       'title', 'url', 'Style Code', 'Fabric','Pattern']]"
   ]
  },
  {
   "cell_type": "code",
   "execution_count": 10,
   "id": "46274bce",
   "metadata": {},
   "outputs": [],
   "source": [
    "df_alter[\"Pattern\"] = df_alter[\"Pattern\"].bfill()"
   ]
  },
  {
   "cell_type": "code",
   "execution_count": 11,
   "id": "40b38979",
   "metadata": {},
   "outputs": [],
   "source": [
    "df_alter[\"Style Code\"] = df_alter[\"Style Code\"].bfill()"
   ]
  },
  {
   "cell_type": "code",
   "execution_count": 12,
   "id": "c4172aa4",
   "metadata": {},
   "outputs": [],
   "source": [
    "df_alter[\"Fabric\"] = df_alter[\"Fabric\"].bfill()"
   ]
  },
  {
   "cell_type": "code",
   "execution_count": 13,
   "id": "4c72c258",
   "metadata": {},
   "outputs": [
    {
     "name": "stdout",
     "output_type": "stream",
     "text": [
      "<class 'pandas.core.frame.DataFrame'>\n",
      "RangeIndex: 30000 entries, 0 to 29999\n",
      "Data columns (total 19 columns):\n",
      " #   Column          Non-Null Count  Dtype         \n",
      "---  ------          --------------  -----         \n",
      " 0   _id             30000 non-null  object        \n",
      " 1   actual_price    30000 non-null  object        \n",
      " 2   average_rating  30000 non-null  object        \n",
      " 3   brand           30000 non-null  object        \n",
      " 4   category        30000 non-null  object        \n",
      " 5   crawled_at      30000 non-null  datetime64[ns]\n",
      " 6   description     30000 non-null  object        \n",
      " 7   discount        30000 non-null  object        \n",
      " 8   images          30000 non-null  object        \n",
      " 9   out_of_stock    30000 non-null  bool          \n",
      " 10  pid             30000 non-null  object        \n",
      " 11  seller          30000 non-null  object        \n",
      " 12  selling_price   30000 non-null  object        \n",
      " 13  sub_category    30000 non-null  object        \n",
      " 14  title           30000 non-null  object        \n",
      " 15  url             30000 non-null  object        \n",
      " 16  Style Code      30000 non-null  object        \n",
      " 17  Fabric          30000 non-null  object        \n",
      " 18  Pattern         30000 non-null  object        \n",
      "dtypes: bool(1), datetime64[ns](1), object(17)\n",
      "memory usage: 4.1+ MB\n"
     ]
    }
   ],
   "source": [
    "df_alter.info()"
   ]
  },
  {
   "cell_type": "code",
   "execution_count": 14,
   "id": "21960b92",
   "metadata": {},
   "outputs": [
    {
     "data": {
      "text/plain": [
       "_id               0.0\n",
       "actual_price      0.0\n",
       "average_rating    0.0\n",
       "brand             0.0\n",
       "category          0.0\n",
       "crawled_at        0.0\n",
       "description       0.0\n",
       "discount          0.0\n",
       "images            0.0\n",
       "out_of_stock      0.0\n",
       "pid               0.0\n",
       "seller            0.0\n",
       "selling_price     0.0\n",
       "sub_category      0.0\n",
       "title             0.0\n",
       "url               0.0\n",
       "Style Code        0.0\n",
       "Fabric            0.0\n",
       "Pattern           0.0\n",
       "dtype: float64"
      ]
     },
     "execution_count": 14,
     "metadata": {},
     "output_type": "execute_result"
    }
   ],
   "source": [
    "df_alter.isnull().sum()/len(df)*100"
   ]
  },
  {
   "cell_type": "code",
   "execution_count": 15,
   "id": "15846bfc",
   "metadata": {},
   "outputs": [
    {
     "data": {
      "text/plain": [
       "_id                       object\n",
       "actual_price              object\n",
       "average_rating            object\n",
       "brand                     object\n",
       "category                  object\n",
       "crawled_at        datetime64[ns]\n",
       "description               object\n",
       "discount                  object\n",
       "images                    object\n",
       "out_of_stock                bool\n",
       "pid                       object\n",
       "seller                    object\n",
       "selling_price             object\n",
       "sub_category              object\n",
       "title                     object\n",
       "url                       object\n",
       "Style Code                object\n",
       "Fabric                    object\n",
       "Pattern                   object\n",
       "dtype: object"
      ]
     },
     "execution_count": 15,
     "metadata": {},
     "output_type": "execute_result"
    }
   ],
   "source": [
    "df_alter.dtypes"
   ]
  },
  {
   "cell_type": "code",
   "execution_count": 16,
   "id": "8b0832fe",
   "metadata": {},
   "outputs": [],
   "source": [
    "df_alter['actual_price'] = df_alter['actual_price'].str.replace(',', '')"
   ]
  },
  {
   "cell_type": "code",
   "execution_count": 17,
   "id": "08b26d71",
   "metadata": {},
   "outputs": [],
   "source": [
    "df_alter['actual_price'] = pd.to_numeric(df_alter[\"actual_price\"])"
   ]
  },
  {
   "cell_type": "code",
   "execution_count": 18,
   "id": "26066fc1",
   "metadata": {},
   "outputs": [],
   "source": [
    "df_alter['average_rating'] = pd.to_numeric(df_alter[\"average_rating\"])"
   ]
  },
  {
   "cell_type": "code",
   "execution_count": 19,
   "id": "e29a4f19",
   "metadata": {},
   "outputs": [],
   "source": [
    "df_alter['crawled_at'] = pd.to_datetime(df_alter['crawled_at'], format='%d-%m-%Y %H:%M')"
   ]
  },
  {
   "cell_type": "code",
   "execution_count": 20,
   "id": "7225ada9",
   "metadata": {},
   "outputs": [],
   "source": [
    "df_alter['year'] = df_alter['crawled_at'].dt.year\n",
    "df_alter['month'] = df_alter['crawled_at'].dt.month\n",
    "\n",
    "df_alter = df_alter.drop('crawled_at', axis=1)"
   ]
  },
  {
   "cell_type": "code",
   "execution_count": 21,
   "id": "433599c9",
   "metadata": {},
   "outputs": [
    {
     "data": {
      "text/plain": [
       "array(['69% off', '66% off', '68% off', '74% off', '63% off', '67% off',\n",
       "       '64% off', '76% off', '49% off', '61% off', '48% off', '70% off',\n",
       "       '71% off', '29% off', '79% off', '73% off', '80% off', '81% off',\n",
       "       '72% off', '77% off', '82% off', '84% off', '54% off', '83% off',\n",
       "       '78% off', '22% off', '47% off', '35% off', '56% off', '75% off',\n",
       "       '62% off', '60% off', '51% off', '44% off', '33% off', '50% off',\n",
       "       '25% off', '28% off', '45% off', '53% off', '40% off', '52% off',\n",
       "       '30% off', '57% off', '42% off', '65% off', '59% off', '55% off',\n",
       "       '58% off', '46% off', '41% off', '34% off', '43% off', '38% off',\n",
       "       '39% off', '86% off', '87% off', '12% off', '37% off', '5% off',\n",
       "       '31% off', '24% off', '27% off', '32% off', '4% off', '',\n",
       "       '23% off', '20% off', '9% off', '36% off', '21% off', '1% off',\n",
       "       '10% off', '17% off', '8% off', '6% off', '2% off', '15% off',\n",
       "       '3% off', '11% off', '16% off', '7% off', '18% off', '14% off',\n",
       "       '26% off', '13% off', '19% off', '85% off'], dtype=object)"
      ]
     },
     "execution_count": 21,
     "metadata": {},
     "output_type": "execute_result"
    }
   ],
   "source": [
    " df_alter['discount'].unique()"
   ]
  },
  {
   "cell_type": "code",
   "execution_count": 22,
   "id": "ca9df68b",
   "metadata": {},
   "outputs": [],
   "source": [
    "df_alter['discount'] = df_alter['discount'].str.replace('% off', '')"
   ]
  },
  {
   "cell_type": "code",
   "execution_count": 23,
   "id": "6c79bd1a",
   "metadata": {},
   "outputs": [],
   "source": [
    "df_alter['discount'] = pd.to_numeric(df_alter[\"discount\"])"
   ]
  },
  {
   "cell_type": "code",
   "execution_count": 24,
   "id": "1293b784",
   "metadata": {},
   "outputs": [],
   "source": [
    "df_alter['selling_price'] = df_alter['selling_price'].str.replace(',', '')\n",
    "df_alter['selling_price'] = pd.to_numeric(df_alter[\"selling_price\"])"
   ]
  },
  {
   "cell_type": "code",
   "execution_count": 25,
   "id": "0731c97e",
   "metadata": {},
   "outputs": [
    {
     "data": {
      "text/plain": [
       "_id                object\n",
       "actual_price      float64\n",
       "average_rating    float64\n",
       "brand              object\n",
       "category           object\n",
       "description        object\n",
       "discount          float64\n",
       "images             object\n",
       "out_of_stock         bool\n",
       "pid                object\n",
       "seller             object\n",
       "selling_price     float64\n",
       "sub_category       object\n",
       "title              object\n",
       "url                object\n",
       "Style Code         object\n",
       "Fabric             object\n",
       "Pattern            object\n",
       "year                int32\n",
       "month               int32\n",
       "dtype: object"
      ]
     },
     "execution_count": 25,
     "metadata": {},
     "output_type": "execute_result"
    }
   ],
   "source": [
    "df_alter.dtypes"
   ]
  },
  {
   "cell_type": "code",
   "execution_count": 26,
   "id": "177498e9",
   "metadata": {},
   "outputs": [
    {
     "data": {
      "text/html": [
       "<div>\n",
       "<style scoped>\n",
       "    .dataframe tbody tr th:only-of-type {\n",
       "        vertical-align: middle;\n",
       "    }\n",
       "\n",
       "    .dataframe tbody tr th {\n",
       "        vertical-align: top;\n",
       "    }\n",
       "\n",
       "    .dataframe thead th {\n",
       "        text-align: right;\n",
       "    }\n",
       "</style>\n",
       "<table border=\"1\" class=\"dataframe\">\n",
       "  <thead>\n",
       "    <tr style=\"text-align: right;\">\n",
       "      <th></th>\n",
       "      <th>_id</th>\n",
       "      <th>actual_price</th>\n",
       "      <th>average_rating</th>\n",
       "      <th>brand</th>\n",
       "      <th>category</th>\n",
       "      <th>description</th>\n",
       "      <th>discount</th>\n",
       "      <th>images</th>\n",
       "      <th>out_of_stock</th>\n",
       "      <th>pid</th>\n",
       "      <th>seller</th>\n",
       "      <th>selling_price</th>\n",
       "      <th>sub_category</th>\n",
       "      <th>title</th>\n",
       "      <th>url</th>\n",
       "      <th>Style Code</th>\n",
       "      <th>Fabric</th>\n",
       "      <th>Pattern</th>\n",
       "      <th>year</th>\n",
       "      <th>month</th>\n",
       "    </tr>\n",
       "  </thead>\n",
       "  <tbody>\n",
       "    <tr>\n",
       "      <th>0</th>\n",
       "      <td>fa8e22d6-c0b6-5229-bb9e-ad52eda39a0a</td>\n",
       "      <td>2999.0</td>\n",
       "      <td>3.9</td>\n",
       "      <td>York</td>\n",
       "      <td>Clothing and Accessories</td>\n",
       "      <td>Yorker trackpants made from 100% rich combed c...</td>\n",
       "      <td>69.0</td>\n",
       "      <td>[https://rukminim1.flixcart.com/image/128/128/...</td>\n",
       "      <td>False</td>\n",
       "      <td>TKPFCZ9EA7H5FYZH</td>\n",
       "      <td>Shyam Enterprises</td>\n",
       "      <td>921.0</td>\n",
       "      <td>Bottomwear</td>\n",
       "      <td>Solid Men Multicolor Track Pants</td>\n",
       "      <td>https://www.flipkart.com/yorker-solid-men-mult...</td>\n",
       "      <td>1005COMBO2</td>\n",
       "      <td>Cotton Blend</td>\n",
       "      <td>Solid</td>\n",
       "      <td>2021</td>\n",
       "      <td>2</td>\n",
       "    </tr>\n",
       "    <tr>\n",
       "      <th>1</th>\n",
       "      <td>893e6980-f2a0-531f-b056-34dd63fe912c</td>\n",
       "      <td>1499.0</td>\n",
       "      <td>3.9</td>\n",
       "      <td>York</td>\n",
       "      <td>Clothing and Accessories</td>\n",
       "      <td>Yorker trackpants made from 100% rich combed c...</td>\n",
       "      <td>66.0</td>\n",
       "      <td>[https://rukminim1.flixcart.com/image/128/128/...</td>\n",
       "      <td>False</td>\n",
       "      <td>TKPFCZ9EJZV2UVRZ</td>\n",
       "      <td>Shyam Enterprises</td>\n",
       "      <td>499.0</td>\n",
       "      <td>Bottomwear</td>\n",
       "      <td>Solid Men Blue Track Pants</td>\n",
       "      <td>https://www.flipkart.com/yorker-solid-men-blue...</td>\n",
       "      <td>1005BLUE</td>\n",
       "      <td>Cotton Blend</td>\n",
       "      <td>Solid</td>\n",
       "      <td>2021</td>\n",
       "      <td>2</td>\n",
       "    </tr>\n",
       "    <tr>\n",
       "      <th>2</th>\n",
       "      <td>eb4c8eab-8206-59d0-bcd1-a724d96bf74f</td>\n",
       "      <td>2999.0</td>\n",
       "      <td>3.9</td>\n",
       "      <td>York</td>\n",
       "      <td>Clothing and Accessories</td>\n",
       "      <td>Yorker trackpants made from 100% rich combed c...</td>\n",
       "      <td>68.0</td>\n",
       "      <td>[https://rukminim1.flixcart.com/image/128/128/...</td>\n",
       "      <td>False</td>\n",
       "      <td>TKPFCZ9EHFCY5Z4Y</td>\n",
       "      <td>Shyam Enterprises</td>\n",
       "      <td>931.0</td>\n",
       "      <td>Bottomwear</td>\n",
       "      <td>Solid Men Multicolor Track Pants</td>\n",
       "      <td>https://www.flipkart.com/yorker-solid-men-mult...</td>\n",
       "      <td>1005COMBO4</td>\n",
       "      <td>Cotton Blend</td>\n",
       "      <td>Solid</td>\n",
       "      <td>2021</td>\n",
       "      <td>2</td>\n",
       "    </tr>\n",
       "    <tr>\n",
       "      <th>3</th>\n",
       "      <td>3f3f97bb-5faf-57df-a9ff-1af24e2b1045</td>\n",
       "      <td>2999.0</td>\n",
       "      <td>3.9</td>\n",
       "      <td>York</td>\n",
       "      <td>Clothing and Accessories</td>\n",
       "      <td>Yorker trackpants made from 100% rich combed c...</td>\n",
       "      <td>69.0</td>\n",
       "      <td>[https://rukminim1.flixcart.com/image/128/128/...</td>\n",
       "      <td>False</td>\n",
       "      <td>TKPFCZ9ESZZ7YWEF</td>\n",
       "      <td>Shyam Enterprises</td>\n",
       "      <td>911.0</td>\n",
       "      <td>Bottomwear</td>\n",
       "      <td>Solid Men Multicolor Track Pants</td>\n",
       "      <td>https://www.flipkart.com/yorker-solid-men-mult...</td>\n",
       "      <td>1005COMBO3</td>\n",
       "      <td>Cotton Blend</td>\n",
       "      <td>Solid</td>\n",
       "      <td>2021</td>\n",
       "      <td>2</td>\n",
       "    </tr>\n",
       "    <tr>\n",
       "      <th>4</th>\n",
       "      <td>750caa3d-6264-53ca-8ce1-94118a1d8951</td>\n",
       "      <td>2999.0</td>\n",
       "      <td>3.9</td>\n",
       "      <td>York</td>\n",
       "      <td>Clothing and Accessories</td>\n",
       "      <td>Yorker trackpants made from 100% rich combed c...</td>\n",
       "      <td>68.0</td>\n",
       "      <td>[https://rukminim1.flixcart.com/image/128/128/...</td>\n",
       "      <td>False</td>\n",
       "      <td>TKPFCZ9EVXKBSUD7</td>\n",
       "      <td>Shyam Enterprises</td>\n",
       "      <td>943.0</td>\n",
       "      <td>Bottomwear</td>\n",
       "      <td>Solid Men Brown, Grey Track Pants</td>\n",
       "      <td>https://www.flipkart.com/yorker-solid-men-brow...</td>\n",
       "      <td>1005COMBO1</td>\n",
       "      <td>Cotton Blend</td>\n",
       "      <td>Solid</td>\n",
       "      <td>2021</td>\n",
       "      <td>2</td>\n",
       "    </tr>\n",
       "  </tbody>\n",
       "</table>\n",
       "</div>"
      ],
      "text/plain": [
       "                                    _id  actual_price  average_rating brand  \\\n",
       "0  fa8e22d6-c0b6-5229-bb9e-ad52eda39a0a        2999.0             3.9  York   \n",
       "1  893e6980-f2a0-531f-b056-34dd63fe912c        1499.0             3.9  York   \n",
       "2  eb4c8eab-8206-59d0-bcd1-a724d96bf74f        2999.0             3.9  York   \n",
       "3  3f3f97bb-5faf-57df-a9ff-1af24e2b1045        2999.0             3.9  York   \n",
       "4  750caa3d-6264-53ca-8ce1-94118a1d8951        2999.0             3.9  York   \n",
       "\n",
       "                   category  \\\n",
       "0  Clothing and Accessories   \n",
       "1  Clothing and Accessories   \n",
       "2  Clothing and Accessories   \n",
       "3  Clothing and Accessories   \n",
       "4  Clothing and Accessories   \n",
       "\n",
       "                                         description  discount  \\\n",
       "0  Yorker trackpants made from 100% rich combed c...      69.0   \n",
       "1  Yorker trackpants made from 100% rich combed c...      66.0   \n",
       "2  Yorker trackpants made from 100% rich combed c...      68.0   \n",
       "3  Yorker trackpants made from 100% rich combed c...      69.0   \n",
       "4  Yorker trackpants made from 100% rich combed c...      68.0   \n",
       "\n",
       "                                              images  out_of_stock  \\\n",
       "0  [https://rukminim1.flixcart.com/image/128/128/...         False   \n",
       "1  [https://rukminim1.flixcart.com/image/128/128/...         False   \n",
       "2  [https://rukminim1.flixcart.com/image/128/128/...         False   \n",
       "3  [https://rukminim1.flixcart.com/image/128/128/...         False   \n",
       "4  [https://rukminim1.flixcart.com/image/128/128/...         False   \n",
       "\n",
       "                pid             seller  selling_price sub_category  \\\n",
       "0  TKPFCZ9EA7H5FYZH  Shyam Enterprises          921.0   Bottomwear   \n",
       "1  TKPFCZ9EJZV2UVRZ  Shyam Enterprises          499.0   Bottomwear   \n",
       "2  TKPFCZ9EHFCY5Z4Y  Shyam Enterprises          931.0   Bottomwear   \n",
       "3  TKPFCZ9ESZZ7YWEF  Shyam Enterprises          911.0   Bottomwear   \n",
       "4  TKPFCZ9EVXKBSUD7  Shyam Enterprises          943.0   Bottomwear   \n",
       "\n",
       "                               title  \\\n",
       "0   Solid Men Multicolor Track Pants   \n",
       "1         Solid Men Blue Track Pants   \n",
       "2   Solid Men Multicolor Track Pants   \n",
       "3   Solid Men Multicolor Track Pants   \n",
       "4  Solid Men Brown, Grey Track Pants   \n",
       "\n",
       "                                                 url  Style Code  \\\n",
       "0  https://www.flipkart.com/yorker-solid-men-mult...  1005COMBO2   \n",
       "1  https://www.flipkart.com/yorker-solid-men-blue...    1005BLUE   \n",
       "2  https://www.flipkart.com/yorker-solid-men-mult...  1005COMBO4   \n",
       "3  https://www.flipkart.com/yorker-solid-men-mult...  1005COMBO3   \n",
       "4  https://www.flipkart.com/yorker-solid-men-brow...  1005COMBO1   \n",
       "\n",
       "         Fabric Pattern  year  month  \n",
       "0  Cotton Blend   Solid  2021      2  \n",
       "1  Cotton Blend   Solid  2021      2  \n",
       "2  Cotton Blend   Solid  2021      2  \n",
       "3  Cotton Blend   Solid  2021      2  \n",
       "4  Cotton Blend   Solid  2021      2  "
      ]
     },
     "execution_count": 26,
     "metadata": {},
     "output_type": "execute_result"
    }
   ],
   "source": [
    "df_alter.head()"
   ]
  },
  {
   "cell_type": "code",
   "execution_count": 29,
   "id": "54449687",
   "metadata": {},
   "outputs": [
    {
     "data": {
      "text/plain": [
       "(30000, 20)"
      ]
     },
     "execution_count": 29,
     "metadata": {},
     "output_type": "execute_result"
    }
   ],
   "source": [
    "df_alter.shape"
   ]
  },
  {
   "cell_type": "code",
   "execution_count": 31,
   "id": "9858f018",
   "metadata": {},
   "outputs": [
    {
     "data": {
      "text/html": [
       "<div>\n",
       "<style scoped>\n",
       "    .dataframe tbody tr th:only-of-type {\n",
       "        vertical-align: middle;\n",
       "    }\n",
       "\n",
       "    .dataframe tbody tr th {\n",
       "        vertical-align: top;\n",
       "    }\n",
       "\n",
       "    .dataframe thead th {\n",
       "        text-align: right;\n",
       "    }\n",
       "</style>\n",
       "<table border=\"1\" class=\"dataframe\">\n",
       "  <thead>\n",
       "    <tr style=\"text-align: right;\">\n",
       "      <th></th>\n",
       "      <th>actual_price</th>\n",
       "      <th>average_rating</th>\n",
       "      <th>discount</th>\n",
       "      <th>selling_price</th>\n",
       "      <th>year</th>\n",
       "      <th>month</th>\n",
       "    </tr>\n",
       "  </thead>\n",
       "  <tbody>\n",
       "    <tr>\n",
       "      <th>count</th>\n",
       "      <td>29137.000000</td>\n",
       "      <td>27554.000000</td>\n",
       "      <td>29059.000000</td>\n",
       "      <td>29998.000000</td>\n",
       "      <td>30000.0</td>\n",
       "      <td>30000.0</td>\n",
       "    </tr>\n",
       "    <tr>\n",
       "      <th>mean</th>\n",
       "      <td>1472.617703</td>\n",
       "      <td>3.641972</td>\n",
       "      <td>50.336109</td>\n",
       "      <td>716.557637</td>\n",
       "      <td>2021.0</td>\n",
       "      <td>2.0</td>\n",
       "    </tr>\n",
       "    <tr>\n",
       "      <th>std</th>\n",
       "      <td>963.263221</td>\n",
       "      <td>0.664232</td>\n",
       "      <td>16.823987</td>\n",
       "      <td>572.438776</td>\n",
       "      <td>0.0</td>\n",
       "      <td>0.0</td>\n",
       "    </tr>\n",
       "    <tr>\n",
       "      <th>min</th>\n",
       "      <td>150.000000</td>\n",
       "      <td>1.000000</td>\n",
       "      <td>1.000000</td>\n",
       "      <td>99.000000</td>\n",
       "      <td>2021.0</td>\n",
       "      <td>2.0</td>\n",
       "    </tr>\n",
       "    <tr>\n",
       "      <th>25%</th>\n",
       "      <td>865.000000</td>\n",
       "      <td>3.300000</td>\n",
       "      <td>40.000000</td>\n",
       "      <td>398.000000</td>\n",
       "      <td>2021.0</td>\n",
       "      <td>2.0</td>\n",
       "    </tr>\n",
       "    <tr>\n",
       "      <th>50%</th>\n",
       "      <td>1249.000000</td>\n",
       "      <td>3.800000</td>\n",
       "      <td>53.000000</td>\n",
       "      <td>549.000000</td>\n",
       "      <td>2021.0</td>\n",
       "      <td>2.0</td>\n",
       "    </tr>\n",
       "    <tr>\n",
       "      <th>75%</th>\n",
       "      <td>1799.000000</td>\n",
       "      <td>4.100000</td>\n",
       "      <td>63.000000</td>\n",
       "      <td>829.000000</td>\n",
       "      <td>2021.0</td>\n",
       "      <td>2.0</td>\n",
       "    </tr>\n",
       "    <tr>\n",
       "      <th>max</th>\n",
       "      <td>12999.000000</td>\n",
       "      <td>5.000000</td>\n",
       "      <td>87.000000</td>\n",
       "      <td>7999.000000</td>\n",
       "      <td>2021.0</td>\n",
       "      <td>2.0</td>\n",
       "    </tr>\n",
       "  </tbody>\n",
       "</table>\n",
       "</div>"
      ],
      "text/plain": [
       "       actual_price  average_rating      discount  selling_price     year  \\\n",
       "count  29137.000000    27554.000000  29059.000000   29998.000000  30000.0   \n",
       "mean    1472.617703        3.641972     50.336109     716.557637   2021.0   \n",
       "std      963.263221        0.664232     16.823987     572.438776      0.0   \n",
       "min      150.000000        1.000000      1.000000      99.000000   2021.0   \n",
       "25%      865.000000        3.300000     40.000000     398.000000   2021.0   \n",
       "50%     1249.000000        3.800000     53.000000     549.000000   2021.0   \n",
       "75%     1799.000000        4.100000     63.000000     829.000000   2021.0   \n",
       "max    12999.000000        5.000000     87.000000    7999.000000   2021.0   \n",
       "\n",
       "         month  \n",
       "count  30000.0  \n",
       "mean       2.0  \n",
       "std        0.0  \n",
       "min        2.0  \n",
       "25%        2.0  \n",
       "50%        2.0  \n",
       "75%        2.0  \n",
       "max        2.0  "
      ]
     },
     "execution_count": 31,
     "metadata": {},
     "output_type": "execute_result"
    }
   ],
   "source": [
    "df_alter.describe()"
   ]
  },
  {
   "cell_type": "code",
   "execution_count": 34,
   "id": "66f029be",
   "metadata": {},
   "outputs": [
    {
     "data": {
      "image/png": "[encoded data removed]",
      "text/plain": [
       "<Figure size 1000x600 with 1 Axes>"
      ]
     },
     "metadata": {},
     "output_type": "display_data"
    }
   ],
   "source": [
    "import seaborn as sns\n",
    "\n",
    "plt.figure(figsize=(10, 6))\n",
    "# Create the box plot using Seaborn\n",
    "sns.boxplot(data=df_alter)\n",
    "\n",
    "# Add title and labels\n",
    "plt.title('Box Plot')\n",
    "plt.xlabel('X Label')\n",
    "plt.ylabel('Y Label')\n",
    "\n",
    "# Show the plot\n",
    "plt.show()"
   ]
  },
  {
   "cell_type": "code",
   "execution_count": 160,
   "id": "de5997ad",
   "metadata": {},
   "outputs": [],
   "source": [
    "df_alter.to_excel(\"e_commerce.xlsx\")"
   ]
  }
 ],
 "metadata": {
  "kernelspec": {
   "display_name": "Python 3 (ipykernel)",
   "language": "python",
   "name": "python3"
  },
  "language_info": {
   "codemirror_mode": {
    "name": "ipython",
    "version": 3
   },
   "file_extension": ".py",
   "mimetype": "text/x-python",
   "name": "python",
   "nbconvert_exporter": "python",
   "pygments_lexer": "ipython3",
   "version": "3.11.5"
  }
 },
 "nbformat": 4,
 "nbformat_minor": 5
}
